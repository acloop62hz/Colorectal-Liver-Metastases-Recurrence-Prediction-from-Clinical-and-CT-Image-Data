{
  "cells": [
    {
      "cell_type": "markdown",
      "metadata": {
        "id": "XBITN0M_LKds"
      },
      "source": [
        "# Project\n"
      ]
    },
    {
      "cell_type": "markdown",
      "metadata": {
        "id": "-NH4P-HzLRQs"
      },
      "source": [
        "Colorectal Liver Metastases Recurrence Prediction from Clinical and CT Image Data"
      ]
    },
    {
      "cell_type": "markdown",
      "metadata": {
        "id": "BdoDIKWOMF59"
      },
      "source": [
        "# Preliminaries"
      ]
    },
    {
      "cell_type": "code",
      "execution_count": 1,
      "metadata": {
        "colab": {
          "base_uri": "https://localhost:8080/"
        },
        "id": "jwLEd0gdPbSc",
        "outputId": "fc575bf7-2826-44ef-f1b8-72cac5054b37"
      },
      "outputs": [
        {
          "output_type": "stream",
          "name": "stdout",
          "text": [
            "Device:  cuda\n"
          ]
        }
      ],
      "source": [
        "import torch\n",
        "import torch.nn as nn\n",
        "from torchsummary import summary\n",
        "import torchvision\n",
        "import os\n",
        "import gc\n",
        "from tqdm import tqdm\n",
        "from PIL import Image\n",
        "import numpy as np\n",
        "import pandas as pd\n",
        "from sklearn.metrics import accuracy_score\n",
        "import glob\n",
        "import matplotlib.pyplot as plt\n",
        "from torchvision import models\n",
        "DEVICE = 'cuda' if torch.cuda.is_available() else 'cpu'\n",
        "print(\"Device: \", DEVICE)"
      ]
    },
    {
      "cell_type": "code",
      "execution_count": 2,
      "metadata": {
        "colab": {
          "base_uri": "https://localhost:8080/"
        },
        "id": "SRz9et3SZnbO",
        "outputId": "55620180-d996-464a-ff6b-7707c65cfc79"
      },
      "outputs": [
        {
          "output_type": "stream",
          "name": "stdout",
          "text": [
            "Mounted at /content/drive\n"
          ]
        }
      ],
      "source": [
        "from google.colab import drive\n",
        "drive.mount('/content/drive')"
      ]
    },
    {
      "cell_type": "code",
      "source": [
        "import os\n",
        "import numpy as np\n",
        "from sklearn.cluster import KMeans\n",
        "import cv2\n",
        "from imutils import build_montages\n",
        "import matplotlib.image as imgplt\n",
        "\n",
        "\n",
        "DATA_DIR    = '/content/drive/MyDrive/dataset/'\n",
        "TRAIN_DIR   = os.path.join(DATA_DIR, \"train/0\") \n",
        "VAL_DIR     = os.path.join(DATA_DIR, \"valid/0\")\n",
        "\n",
        "dir = os.path.join(DATA_DIR, \"train/1\") \n",
        "\n",
        "image_path = []\n",
        "all_images = []\n",
        "images = os.listdir(dir)\n",
        "\n",
        "for image_name in images:\n",
        "    image_path.append(dir+'/' + image_name)\n",
        "for path in image_path:\n",
        "    image = imgplt.imread(path)\n",
        "    image = image.reshape(-1, )\n",
        "    all_images.append(image)\n"
      ],
      "metadata": {
        "id": "O28GtIqjbOuH"
      },
      "execution_count": 90,
      "outputs": []
    },
    {
      "cell_type": "code",
      "source": [
        "train_1_array = np.array(all_images)"
      ],
      "metadata": {
        "id": "Z-FOdRIn87gc"
      },
      "execution_count": 91,
      "outputs": []
    },
    {
      "cell_type": "code",
      "source": [
        "from sklearn.preprocessing import MinMaxScaler\n",
        "from sklearn.decomposition import PCA\n",
        "from sklearn.cluster import KMeans\n",
        "import matplotlib.pyplot as plt\n",
        "\n",
        "# create a scaler object\n",
        "scaler = MinMaxScaler()\n",
        "\n",
        "# fit and transform the data\n",
        "normalized_data = scaler.fit_transform(train_1_array)\n",
        "\n",
        "# create a PCA object with n_components\n",
        "pca = PCA(n_components=2)\n",
        "\n",
        "# fit and transform the data\n",
        "pca_data_1 = pca.fit_transform(normalized_data)"
      ],
      "metadata": {
        "id": "SUbdtef382ue"
      },
      "execution_count": 97,
      "outputs": []
    },
    {
      "cell_type": "code",
      "source": [
        "clt = KMeans(n_clusters=5)\n",
        "clt.fit(pca_data_0)\n",
        "clusters_train_0 = clt.predict(pca_data_0)"
      ],
      "metadata": {
        "colab": {
          "base_uri": "https://localhost:8080/"
        },
        "id": "nuegCVPP84-H",
        "outputId": "d3af7248-647c-4102-ad6c-7c9ec4e1b85d"
      },
      "execution_count": 96,
      "outputs": [
        {
          "output_type": "stream",
          "name": "stderr",
          "text": [
            "/usr/local/lib/python3.10/dist-packages/sklearn/cluster/_kmeans.py:870: FutureWarning: The default value of `n_init` will change from 10 to 'auto' in 1.4. Set the value of `n_init` explicitly to suppress the warning\n",
            "  warnings.warn(\n"
          ]
        }
      ]
    },
    {
      "cell_type": "code",
      "source": [
        "clt = KMeans(n_clusters=5)\n",
        "clt.fit(pca_data_1)\n",
        "clusters_train_1 = clt.predict(pca_data_1)"
      ],
      "metadata": {
        "colab": {
          "base_uri": "https://localhost:8080/"
        },
        "id": "uuGkkjeW-CRb",
        "outputId": "76c9d11c-8d62-4a90-a4e7-5c4c1331608a"
      },
      "execution_count": 98,
      "outputs": [
        {
          "output_type": "stream",
          "name": "stderr",
          "text": [
            "/usr/local/lib/python3.10/dist-packages/sklearn/cluster/_kmeans.py:870: FutureWarning: The default value of `n_init` will change from 10 to 'auto' in 1.4. Set the value of `n_init` explicitly to suppress the warning\n",
            "  warnings.warn(\n"
          ]
        }
      ]
    },
    {
      "cell_type": "code",
      "source": [
        "# create a KMeans object with n_clusters\n",
        "\n",
        "fig, ax = plt.subplots()\n",
        "\n",
        "#scatter1 = ax.scatter(pca_data_0[:,0], pca_data_0[:,1],s=5, c=clusters_train_0, marker = '*',cmap='Accent',alpha=0.5)\n",
        "scatter2 = ax.scatter(pca_data_1[:,0], pca_data_1[:,1],s=5, c=clusters_train_1, marker = 'o',cmap='Accent',alpha=0.5)\n",
        "\n",
        "# add labels and title\n",
        "plt.xlabel('PCA Component 1')\n",
        "plt.ylabel('PCA Component 2')\n",
        "plt.title('K-means Clustering Results-c;')\n",
        "#legend1 = ax.legend(*scatter1.legend_elements(), loc=\"upper left\", title=\"Clusters-Class 0\")\n",
        "legend2 = ax.legend(*scatter2.legend_elements(), loc=\"upper right\", title=\"Clusters-Class 1\")\n",
        "#ax.add_artist(legend1)\n",
        "ax.add_artist(legend2)\n",
        "\n",
        "# show the plot\n",
        "plt.show()"
      ],
      "metadata": {
        "colab": {
          "base_uri": "https://localhost:8080/",
          "height": 472
        },
        "id": "DK4QOxQV3T5i",
        "outputId": "96e8cdab-809f-4e97-8b35-eed1267af97b"
      },
      "execution_count": 105,
      "outputs": [
        {
          "output_type": "display_data",
          "data": {
            "text/plain": [
              "<Figure size 640x480 with 1 Axes>"
            ],
            "image/png": "[encoded data removed]"
          },
          "metadata": {}
        }
      ]
    },
    {
      "cell_type": "code",
      "source": [],
      "metadata": {
        "id": "B1YPeF4n8spv"
      },
      "execution_count": null,
      "outputs": []
    },
    {
      "cell_type": "code",
      "source": [
        "train_0 = clt.labels_"
      ],
      "metadata": {
        "id": "Kolu8Oqflanm"
      },
      "execution_count": 83,
      "outputs": []
    },
    {
      "cell_type": "code",
      "source": [
        "train_1 = clt1.labels_"
      ],
      "metadata": {
        "id": "TOObUDMen3f1"
      },
      "execution_count": null,
      "outputs": []
    },
    {
      "cell_type": "code",
      "source": [
        "valid_0 = clt2.labels_"
      ],
      "metadata": {
        "id": "6nsxlGMuozJ8"
      },
      "execution_count": null,
      "outputs": []
    },
    {
      "cell_type": "code",
      "source": [
        "valid_1 = clt3.labels_"
      ],
      "metadata": {
        "id": "FzDh2VW5o2Wq"
      },
      "execution_count": null,
      "outputs": []
    },
    {
      "cell_type": "code",
      "source": [
        "np.argwhere(train_0==0).reshape(-1).astype(int)"
      ],
      "metadata": {
        "colab": {
          "base_uri": "https://localhost:8080/"
        },
        "id": "l0KYAYu9r68K",
        "outputId": "82746361-298f-49db-e572-a97d12a20694"
      },
      "execution_count": null,
      "outputs": [
        {
          "output_type": "execute_result",
          "data": {
            "text/plain": [
              "array([  73,   74,   75, ..., 8212, 8213, 8216])"
            ]
          },
          "metadata": {},
          "execution_count": 42
        }
      ]
    },
    {
      "cell_type": "code",
      "source": [
        "a=np.array([1,2,3])"
      ],
      "metadata": {
        "id": "UxvsAt_iuZSJ"
      },
      "execution_count": null,
      "outputs": []
    },
    {
      "cell_type": "code",
      "source": [
        "os.listdir('/content/drive/MyDrive/dataset/train/0')[i for i in a]"
      ],
      "metadata": {
        "colab": {
          "base_uri": "https://localhost:8080/",
          "height": 133
        },
        "id": "ZCzVNqsPuOof",
        "outputId": "b264cd4e-3381-4bc1-a727-71421ab856fe"
      },
      "execution_count": null,
      "outputs": [
        {
          "output_type": "error",
          "ename": "SyntaxError",
          "evalue": "ignored",
          "traceback": [
            "\u001b[0;36m  File \u001b[0;32m\"<ipython-input-51-fb3a723a5f2f>\"\u001b[0;36m, line \u001b[0;32m1\u001b[0m\n\u001b[0;31m    os.listdir('/content/drive/MyDrive/dataset/train/0')[i for i in a]\u001b[0m\n\u001b[0m                                                           ^\u001b[0m\n\u001b[0;31mSyntaxError\u001b[0m\u001b[0;31m:\u001b[0m invalid syntax\n"
          ]
        }
      ]
    },
    {
      "cell_type": "code",
      "source": [
        "train_cluster_0 =np.argwhere(train_0==1).reshape(-1)\n",
        "train_cluster_1 = np.argwhere(train_1==1).reshape(-1)\n",
        "os_train_list0 = os.listdir('/content/drive/MyDrive/dataset/train/0')\n",
        "os_train_list1 = os.listdir('/content/drive/MyDrive/dataset/train/1')\n",
        "train_cluster_name = []\n",
        "for i in train_cluster_0:\n",
        "  a = os_train_list0[int(i)]\n",
        "  train_cluster_name.append(a)\n",
        "for i in train_cluster_1:\n",
        "  a = os_train_list1[int(i)]\n",
        "  train_cluster_name.append(a)\n",
        "\n",
        "\n",
        "valid_cluster_0 =np.argwhere(valid_0==1).reshape(-1)\n",
        "valid_cluster_1 = np.argwhere(valid_1==1).reshape(-1)\n",
        "os_valid_list0 = os.listdir('/content/drive/MyDrive/dataset/valid/0')\n",
        "os_valid_list1 = os.listdir('/content/drive/MyDrive/dataset/valid/1')\n",
        "valid_cluster_name = []\n",
        "for i in valid_cluster_0:\n",
        "  a = os_valid_list0[int(i)]\n",
        "  valid_cluster_name.append(a)\n",
        "for i in valid_cluster_1:\n",
        "  a = os_valid_list1[int(i)]\n",
        "  valid_cluster_name.append(a)\n"
      ],
      "metadata": {
        "id": "2QTUecnTqH_Z"
      },
      "execution_count": null,
      "outputs": []
    },
    {
      "cell_type": "code",
      "source": [
        "#SSE = []  # 存放每次结果的误差平方和  \n",
        "for k in range(7,9):  \n",
        "    estimator = KMeans(n_clusters=k)  # 构造聚类器  \n",
        "    estimator.fit(all_images)  \n",
        "    SSE.append(estimator.inertia_)  \n",
        "\n",
        "X = range(len(clt.labels_))  \n",
        "plt.xlabel('k')  \n",
        "plt.ylabel('SSE')  \n",
        "plt.plot(X,clt.labels_,'o-')  \n",
        "plt.show()  "
      ],
      "metadata": {
        "colab": {
          "base_uri": "https://localhost:8080/"
        },
        "id": "Zg19_7wKb_t1",
        "outputId": "82e9dc1c-f750-4a73-cfec-b0d362c51322"
      },
      "execution_count": null,
      "outputs": [
        {
          "output_type": "stream",
          "name": "stderr",
          "text": [
            "/usr/local/lib/python3.9/dist-packages/sklearn/cluster/_kmeans.py:870: FutureWarning: The default value of `n_init` will change from 10 to 'auto' in 1.4. Set the value of `n_init` explicitly to suppress the warning\n",
            "  warnings.warn(\n",
            "/usr/local/lib/python3.9/dist-packages/sklearn/cluster/_kmeans.py:870: FutureWarning: The default value of `n_init` will change from 10 to 'auto' in 1.4. Set the value of `n_init` explicitly to suppress the warning\n",
            "  warnings.warn(\n"
          ]
        }
      ]
    },
    {
      "cell_type": "markdown",
      "metadata": {
        "id": "sSeiKHYrM-6b"
      },
      "source": [
        "# Classification Dataset"
      ]
    },
    {
      "cell_type": "code",
      "source": [
        "config = {\n",
        "    \"batch_size\": 16,\n",
        "    \"lr\": 1e-2,\n",
        "    \"epochs\": 30\n",
        "}"
      ],
      "metadata": {
        "id": "5b8nO7smSsmH"
      },
      "execution_count": 67,
      "outputs": []
    },
    {
      "cell_type": "code",
      "execution_count": 68,
      "metadata": {
        "id": "tmRX5omaNDEZ"
      },
      "outputs": [],
      "source": [
        "DATA_DIR    = '/content/drive/MyDrive/dataset/'\n",
        "TRAIN_DIR   = os.path.join(DATA_DIR, \"train\") \n",
        "VAL_DIR     = os.path.join(DATA_DIR, \"valid\")\n",
        "\n",
        "\n",
        "train_transforms = torchvision.transforms.Compose([\n",
        "    torchvision.transforms.RandAugment(6),\n",
        "    # torchvision.transforms.RandomHorizontalFlip(),\n",
        "    # torchvision.transforms.RandomRotation(10),\n",
        "    torchvision.transforms.Resize(256),\n",
        "    torchvision.transforms.CenterCrop(224),\n",
        "    torchvision.transforms.Grayscale(num_output_channels=1),\n",
        "    torchvision.transforms.ToTensor(),\n",
        "    torchvision.transforms.Normalize(mean=[0.20978874], std=[0.21695834]),\n",
        "])\n",
        "\n",
        "valid_transforms = torchvision.transforms.Compose([\n",
        "    torchvision.transforms.Resize(256),\n",
        "    torchvision.transforms.CenterCrop(224),\n",
        "    torchvision.transforms.Grayscale(num_output_channels=1),\n",
        "    torchvision.transforms.ToTensor(),\n",
        "    torchvision.transforms.Normalize(mean=[0.20978874], std=[0.21695834])\n",
        "])\n",
        "\n",
        "train_dataset   = torchvision.datasets.ImageFolder(TRAIN_DIR, transform=train_transforms)\n",
        "valid_dataset   = torchvision.datasets.ImageFolder(VAL_DIR, transform=valid_transforms)\n",
        "\n",
        "# train_sub_idx = [i for i in range(len(train_dataset)) if train_dataset.imgs[i][0].split('/')[7] in train_cluster_name]\n",
        "# train_sub_dataset = torch.utils.data.Subset(train_dataset, train_sub_idx)\n",
        "# valid_sub_idx = [i for i in range(len(valid_dataset)) if valid_dataset.imgs[i][0].split('/')[7] in valid_cluster_name]\n",
        "# valid_sub_dataset = torch.utils.data.Subset(valid_dataset, valid_sub_idx)"
      ]
    },
    {
      "cell_type": "code",
      "source": [
        "list_name=[]\n",
        "list_label=[]\n",
        "for i,j in train_dataset.imgs:\n",
        "  list_name.append(i)\n",
        "  list_label.append(j)\n",
        "from torch.utils.data import WeightedRandomSampler\n",
        "labels_unique,counts = np.unique(np.array(list_label),return_counts=True)\n",
        "class_weights = [sum(counts)/c for c in counts]\n",
        "example_weights = [class_weights[e] for e in list_label ]\n",
        "sampler1 = WeightedRandomSampler(example_weights,len(list_label))"
      ],
      "metadata": {
        "id": "m4seGLBec8Xo"
      },
      "execution_count": 69,
      "outputs": []
    },
    {
      "cell_type": "code",
      "source": [
        "from torch.utils.data import WeightedRandomSampler\n",
        "labels_unique,counts = np.unique(np.array(list_label),return_counts=True)\n",
        "class_weights = [sum(counts)/c for c in counts]\n",
        "example_weights = [class_weights[e] for e in list_label ]\n",
        "sampler = WeightedRandomSampler(example_weights,len(list_label))"
      ],
      "metadata": {
        "id": "3x6l9HxYgGhv"
      },
      "execution_count": 70,
      "outputs": []
    },
    {
      "cell_type": "code",
      "source": [
        "train_loader = torch.utils.data.DataLoader(\n",
        "    dataset     = train_dataset, \n",
        "    batch_size  = config['batch_size'], \n",
        "    #shuffle     = True,\n",
        "    num_workers = 4, \n",
        "    sampler = sampler,\n",
        "    pin_memory  = True\n",
        ")\n",
        "\n",
        "valid_loader = torch.utils.data.DataLoader(\n",
        "    dataset     = valid_dataset, \n",
        "    batch_size  = config['batch_size'],\n",
        "    shuffle     = False,\n",
        "    #sampler = sampler,\n",
        "    num_workers = 2\n",
        ")"
      ],
      "metadata": {
        "id": "m14CX9XXc5wH"
      },
      "execution_count": 71,
      "outputs": []
    },
    {
      "cell_type": "markdown",
      "metadata": {
        "id": "mIqmojPaWD0H"
      },
      "source": [
        "# Model"
      ]
    },
    {
      "cell_type": "code",
      "source": [
        "from collections import OrderedDict\n",
        "\n",
        "model_name = 'vgg16' #changeable\n",
        "PRETRAINED = True #changeable\n",
        "\n",
        "model = None #Don't touch\n",
        "\n",
        "if model_name == 'vgg16':\n",
        "    model = torchvision.models.vgg16(pretrained = PRETRAINED).to(DEVICE)\n",
        "    \n",
        "    if PRETRAINED:\n",
        "        for param in model.parameters():\n",
        "            param.requires_grad = False\n",
        "            \n",
        "    layers_vgg16 = nn.Sequential(OrderedDict([\n",
        "            ('fc1', nn.Linear(25088, 512)),\n",
        "            ('activation1', nn.ReLU()),\n",
        "            ('dropout1', nn.Dropout(0.2)),\n",
        "            ('fc2', nn.Linear(512, 256)),\n",
        "            ('activation2', nn.ReLU()),\n",
        "            ('dropout2', nn.Dropout(0.2)),\n",
        "            ('fc3', nn.Linear(256, 128)),\n",
        "            ('activation3', nn.ReLU()),\n",
        "            ('dropout3', nn.Dropout(0.2)),\n",
        "            ('fc4', nn.Linear(128, 2)),\n",
        "            ('out', nn.Sigmoid())\n",
        "\n",
        "        ])).to(DEVICE)\n",
        "    model.classifier = layers_vgg16\n",
        "\n",
        "assert(model is not None)"
      ],
      "metadata": {
        "colab": {
          "base_uri": "https://localhost:8080/"
        },
        "id": "NTdU-sEx0uYn",
        "outputId": "844846f8-ef53-46ba-f695-5260cb0c8668"
      },
      "execution_count": 72,
      "outputs": [
        {
          "output_type": "stream",
          "name": "stderr",
          "text": [
            "/usr/local/lib/python3.10/dist-packages/torchvision/models/_utils.py:208: UserWarning: The parameter 'pretrained' is deprecated since 0.13 and may be removed in the future, please use 'weights' instead.\n",
            "  warnings.warn(\n",
            "/usr/local/lib/python3.10/dist-packages/torchvision/models/_utils.py:223: UserWarning: Arguments other than a weight enum or `None` for 'weights' are deprecated since 0.13 and may be removed in the future. The current behavior is equivalent to passing `weights=VGG16_Weights.IMAGENET1K_V1`. You can also use `weights=VGG16_Weights.DEFAULT` to get the most up-to-date weights.\n",
            "  warnings.warn(msg)\n"
          ]
        }
      ]
    },
    {
      "cell_type": "code",
      "source": [
        "# Reference: https://arxiv.org/abs/2201.03545(github: https://github.com/facebookresearch/ConvNeXt) \n",
        "import torch.nn as nn\n",
        "\n",
        "class Block(nn.Module):\n",
        "    def __init__(self, dim):\n",
        "        super().__init__()\n",
        "        self.conv1 = nn.Conv2d(dim, dim, kernel_size=7, padding=3, groups=dim)\n",
        "        self.bn1 = nn.BatchNorm2d(dim)\n",
        "        self.conv2 = nn.Conv2d(dim, dim*4, kernel_size= 1, stride= 1, padding= 0)\n",
        "        self.gelu = nn.GELU()\n",
        "        self.conv3 = nn.Conv2d(4*dim, dim, kernel_size= 1, stride= 1, padding= 0)\n",
        "    \n",
        "    def forward(self, x):\n",
        "        self.input = x\n",
        "        x = self.conv1(x)\n",
        "        x = self.bn1(x)\n",
        "        x = self.conv2(x)\n",
        "        x = self.gelu(x)\n",
        "        x = self.conv3(x)\n",
        "        return x + self.input\n",
        "    \n",
        "class ConvNeXt_L(nn.Module):\n",
        "    def __init__(self, in_channels= 1, num_class= 1, depths= [3, 3, 27, 3], dims = [96, 192, 384, 768]):\n",
        "        super().__init__()\n",
        "        self.downsample_layers = nn.ModuleList()\n",
        "        self.stage_layers = nn.ModuleList()\n",
        "        self.cls_layer = nn.Linear(dims[-1], num_class)\n",
        "        self.avgpool = nn.AdaptiveAvgPool2d((1, 1))\n",
        "        self.flat = nn.Flatten()\n",
        "        self.dropout = nn.Dropout(p = 0.1)\n",
        "        \n",
        "        # add stem layer\n",
        "        self.stem_layer = nn.Sequential(\n",
        "            nn.Conv2d(in_channels, dims[0], kernel_size= 4, stride= 4),\n",
        "            # use BN rather than LN, which is different from the original model\n",
        "            nn.BatchNorm2d(dims[0])\n",
        "        )\n",
        "        self.downsample_layers.append(self.stem_layer)\n",
        "        \n",
        "        # add different down-sample layer \n",
        "        for i in range(3):\n",
        "            downsample_layer = nn.Sequential(\n",
        "                nn.BatchNorm2d(dims[i]),\n",
        "                nn.Conv2d(dims[i], dims[i+1], kernel_size= 2, stride= 2)\n",
        "            )\n",
        "            self.downsample_layers.append(downsample_layer)\n",
        "            \n",
        "        # add model block to stage layer\n",
        "        for i in range(4):\n",
        "            stage_layer = nn.Sequential(\n",
        "                *[Block(dim= dims[i]) for k in range(depths[i])]\n",
        "            )\n",
        "            self.stage_layers.append(stage_layer)\n",
        "        \n",
        "    def forward(self, x, return_feats=False):\n",
        "        for i in range(4):\n",
        "            x = self.downsample_layers[i](x)\n",
        "            x = self.stage_layers[i](x)\n",
        "        x = self.avgpool(x)\n",
        "        x = self.flat(x)\n",
        "        x = self.dropout(x)\n",
        "        \n",
        "        if return_feats:\n",
        "            return x\n",
        "        else:\n",
        "            return self.cls_layer(x)"
      ],
      "metadata": {
        "id": "HRuM0uMeTr0X"
      },
      "execution_count": 40,
      "outputs": []
    },
    {
      "cell_type": "code",
      "source": [
        "model = ConvNeXt_L().to(DEVICE)\n",
        "summary(model, (1, 224, 224))"
      ],
      "metadata": {
        "colab": {
          "base_uri": "https://localhost:8080/"
        },
        "id": "mdKhrj-KTxrz",
        "outputId": "ce1874d9-b2e2-40c9-99ce-8a925ae7e56d"
      },
      "execution_count": 41,
      "outputs": [
        {
          "output_type": "stream",
          "name": "stdout",
          "text": [
            "----------------------------------------------------------------\n",
            "        Layer (type)               Output Shape         Param #\n",
            "================================================================\n",
            "            Conv2d-1           [-1, 96, 56, 56]           1,632\n",
            "            Conv2d-2           [-1, 96, 56, 56]           1,632\n",
            "       BatchNorm2d-3           [-1, 96, 56, 56]             192\n",
            "       BatchNorm2d-4           [-1, 96, 56, 56]             192\n",
            "            Conv2d-5           [-1, 96, 56, 56]           4,800\n",
            "       BatchNorm2d-6           [-1, 96, 56, 56]             192\n",
            "            Conv2d-7          [-1, 384, 56, 56]          37,248\n",
            "              GELU-8          [-1, 384, 56, 56]               0\n",
            "            Conv2d-9           [-1, 96, 56, 56]          36,960\n",
            "            Block-10           [-1, 96, 56, 56]               0\n",
            "           Conv2d-11           [-1, 96, 56, 56]           4,800\n",
            "      BatchNorm2d-12           [-1, 96, 56, 56]             192\n",
            "           Conv2d-13          [-1, 384, 56, 56]          37,248\n",
            "             GELU-14          [-1, 384, 56, 56]               0\n",
            "           Conv2d-15           [-1, 96, 56, 56]          36,960\n",
            "            Block-16           [-1, 96, 56, 56]               0\n",
            "           Conv2d-17           [-1, 96, 56, 56]           4,800\n",
            "      BatchNorm2d-18           [-1, 96, 56, 56]             192\n",
            "           Conv2d-19          [-1, 384, 56, 56]          37,248\n",
            "             GELU-20          [-1, 384, 56, 56]               0\n",
            "           Conv2d-21           [-1, 96, 56, 56]          36,960\n",
            "            Block-22           [-1, 96, 56, 56]               0\n",
            "      BatchNorm2d-23           [-1, 96, 56, 56]             192\n",
            "           Conv2d-24          [-1, 192, 28, 28]          73,920\n",
            "           Conv2d-25          [-1, 192, 28, 28]           9,600\n",
            "      BatchNorm2d-26          [-1, 192, 28, 28]             384\n",
            "           Conv2d-27          [-1, 768, 28, 28]         148,224\n",
            "             GELU-28          [-1, 768, 28, 28]               0\n",
            "           Conv2d-29          [-1, 192, 28, 28]         147,648\n",
            "            Block-30          [-1, 192, 28, 28]               0\n",
            "           Conv2d-31          [-1, 192, 28, 28]           9,600\n",
            "      BatchNorm2d-32          [-1, 192, 28, 28]             384\n",
            "           Conv2d-33          [-1, 768, 28, 28]         148,224\n",
            "             GELU-34          [-1, 768, 28, 28]               0\n",
            "           Conv2d-35          [-1, 192, 28, 28]         147,648\n",
            "            Block-36          [-1, 192, 28, 28]               0\n",
            "           Conv2d-37          [-1, 192, 28, 28]           9,600\n",
            "      BatchNorm2d-38          [-1, 192, 28, 28]             384\n",
            "           Conv2d-39          [-1, 768, 28, 28]         148,224\n",
            "             GELU-40          [-1, 768, 28, 28]               0\n",
            "           Conv2d-41          [-1, 192, 28, 28]         147,648\n",
            "            Block-42          [-1, 192, 28, 28]               0\n",
            "      BatchNorm2d-43          [-1, 192, 28, 28]             384\n",
            "           Conv2d-44          [-1, 384, 14, 14]         295,296\n",
            "           Conv2d-45          [-1, 384, 14, 14]          19,200\n",
            "      BatchNorm2d-46          [-1, 384, 14, 14]             768\n",
            "           Conv2d-47         [-1, 1536, 14, 14]         591,360\n",
            "             GELU-48         [-1, 1536, 14, 14]               0\n",
            "           Conv2d-49          [-1, 384, 14, 14]         590,208\n",
            "            Block-50          [-1, 384, 14, 14]               0\n",
            "           Conv2d-51          [-1, 384, 14, 14]          19,200\n",
            "      BatchNorm2d-52          [-1, 384, 14, 14]             768\n",
            "           Conv2d-53         [-1, 1536, 14, 14]         591,360\n",
            "             GELU-54         [-1, 1536, 14, 14]               0\n",
            "           Conv2d-55          [-1, 384, 14, 14]         590,208\n",
            "            Block-56          [-1, 384, 14, 14]               0\n",
            "           Conv2d-57          [-1, 384, 14, 14]          19,200\n",
            "      BatchNorm2d-58          [-1, 384, 14, 14]             768\n",
            "           Conv2d-59         [-1, 1536, 14, 14]         591,360\n",
            "             GELU-60         [-1, 1536, 14, 14]               0\n",
            "           Conv2d-61          [-1, 384, 14, 14]         590,208\n",
            "            Block-62          [-1, 384, 14, 14]               0\n",
            "           Conv2d-63          [-1, 384, 14, 14]          19,200\n",
            "      BatchNorm2d-64          [-1, 384, 14, 14]             768\n",
            "           Conv2d-65         [-1, 1536, 14, 14]         591,360\n",
            "             GELU-66         [-1, 1536, 14, 14]               0\n",
            "           Conv2d-67          [-1, 384, 14, 14]         590,208\n",
            "            Block-68          [-1, 384, 14, 14]               0\n",
            "           Conv2d-69          [-1, 384, 14, 14]          19,200\n",
            "      BatchNorm2d-70          [-1, 384, 14, 14]             768\n",
            "           Conv2d-71         [-1, 1536, 14, 14]         591,360\n",
            "             GELU-72         [-1, 1536, 14, 14]               0\n",
            "           Conv2d-73          [-1, 384, 14, 14]         590,208\n",
            "            Block-74          [-1, 384, 14, 14]               0\n",
            "           Conv2d-75          [-1, 384, 14, 14]          19,200\n",
            "      BatchNorm2d-76          [-1, 384, 14, 14]             768\n",
            "           Conv2d-77         [-1, 1536, 14, 14]         591,360\n",
            "             GELU-78         [-1, 1536, 14, 14]               0\n",
            "           Conv2d-79          [-1, 384, 14, 14]         590,208\n",
            "            Block-80          [-1, 384, 14, 14]               0\n",
            "           Conv2d-81          [-1, 384, 14, 14]          19,200\n",
            "      BatchNorm2d-82          [-1, 384, 14, 14]             768\n",
            "           Conv2d-83         [-1, 1536, 14, 14]         591,360\n",
            "             GELU-84         [-1, 1536, 14, 14]               0\n",
            "           Conv2d-85          [-1, 384, 14, 14]         590,208\n",
            "            Block-86          [-1, 384, 14, 14]               0\n",
            "           Conv2d-87          [-1, 384, 14, 14]          19,200\n",
            "      BatchNorm2d-88          [-1, 384, 14, 14]             768\n",
            "           Conv2d-89         [-1, 1536, 14, 14]         591,360\n",
            "             GELU-90         [-1, 1536, 14, 14]               0\n",
            "           Conv2d-91          [-1, 384, 14, 14]         590,208\n",
            "            Block-92          [-1, 384, 14, 14]               0\n",
            "           Conv2d-93          [-1, 384, 14, 14]          19,200\n",
            "      BatchNorm2d-94          [-1, 384, 14, 14]             768\n",
            "           Conv2d-95         [-1, 1536, 14, 14]         591,360\n",
            "             GELU-96         [-1, 1536, 14, 14]               0\n",
            "           Conv2d-97          [-1, 384, 14, 14]         590,208\n",
            "            Block-98          [-1, 384, 14, 14]               0\n",
            "           Conv2d-99          [-1, 384, 14, 14]          19,200\n",
            "     BatchNorm2d-100          [-1, 384, 14, 14]             768\n",
            "          Conv2d-101         [-1, 1536, 14, 14]         591,360\n",
            "            GELU-102         [-1, 1536, 14, 14]               0\n",
            "          Conv2d-103          [-1, 384, 14, 14]         590,208\n",
            "           Block-104          [-1, 384, 14, 14]               0\n",
            "          Conv2d-105          [-1, 384, 14, 14]          19,200\n",
            "     BatchNorm2d-106          [-1, 384, 14, 14]             768\n",
            "          Conv2d-107         [-1, 1536, 14, 14]         591,360\n",
            "            GELU-108         [-1, 1536, 14, 14]               0\n",
            "          Conv2d-109          [-1, 384, 14, 14]         590,208\n",
            "           Block-110          [-1, 384, 14, 14]               0\n",
            "          Conv2d-111          [-1, 384, 14, 14]          19,200\n",
            "     BatchNorm2d-112          [-1, 384, 14, 14]             768\n",
            "          Conv2d-113         [-1, 1536, 14, 14]         591,360\n",
            "            GELU-114         [-1, 1536, 14, 14]               0\n",
            "          Conv2d-115          [-1, 384, 14, 14]         590,208\n",
            "           Block-116          [-1, 384, 14, 14]               0\n",
            "          Conv2d-117          [-1, 384, 14, 14]          19,200\n",
            "     BatchNorm2d-118          [-1, 384, 14, 14]             768\n",
            "          Conv2d-119         [-1, 1536, 14, 14]         591,360\n",
            "            GELU-120         [-1, 1536, 14, 14]               0\n",
            "          Conv2d-121          [-1, 384, 14, 14]         590,208\n",
            "           Block-122          [-1, 384, 14, 14]               0\n",
            "          Conv2d-123          [-1, 384, 14, 14]          19,200\n",
            "     BatchNorm2d-124          [-1, 384, 14, 14]             768\n",
            "          Conv2d-125         [-1, 1536, 14, 14]         591,360\n",
            "            GELU-126         [-1, 1536, 14, 14]               0\n",
            "          Conv2d-127          [-1, 384, 14, 14]         590,208\n",
            "           Block-128          [-1, 384, 14, 14]               0\n",
            "          Conv2d-129          [-1, 384, 14, 14]          19,200\n",
            "     BatchNorm2d-130          [-1, 384, 14, 14]             768\n",
            "          Conv2d-131         [-1, 1536, 14, 14]         591,360\n",
            "            GELU-132         [-1, 1536, 14, 14]               0\n",
            "          Conv2d-133          [-1, 384, 14, 14]         590,208\n",
            "           Block-134          [-1, 384, 14, 14]               0\n",
            "          Conv2d-135          [-1, 384, 14, 14]          19,200\n",
            "     BatchNorm2d-136          [-1, 384, 14, 14]             768\n",
            "          Conv2d-137         [-1, 1536, 14, 14]         591,360\n",
            "            GELU-138         [-1, 1536, 14, 14]               0\n",
            "          Conv2d-139          [-1, 384, 14, 14]         590,208\n",
            "           Block-140          [-1, 384, 14, 14]               0\n",
            "          Conv2d-141          [-1, 384, 14, 14]          19,200\n",
            "     BatchNorm2d-142          [-1, 384, 14, 14]             768\n",
            "          Conv2d-143         [-1, 1536, 14, 14]         591,360\n",
            "            GELU-144         [-1, 1536, 14, 14]               0\n",
            "          Conv2d-145          [-1, 384, 14, 14]         590,208\n",
            "           Block-146          [-1, 384, 14, 14]               0\n",
            "          Conv2d-147          [-1, 384, 14, 14]          19,200\n",
            "     BatchNorm2d-148          [-1, 384, 14, 14]             768\n",
            "          Conv2d-149         [-1, 1536, 14, 14]         591,360\n",
            "            GELU-150         [-1, 1536, 14, 14]               0\n",
            "          Conv2d-151          [-1, 384, 14, 14]         590,208\n",
            "           Block-152          [-1, 384, 14, 14]               0\n",
            "          Conv2d-153          [-1, 384, 14, 14]          19,200\n",
            "     BatchNorm2d-154          [-1, 384, 14, 14]             768\n",
            "          Conv2d-155         [-1, 1536, 14, 14]         591,360\n",
            "            GELU-156         [-1, 1536, 14, 14]               0\n",
            "          Conv2d-157          [-1, 384, 14, 14]         590,208\n",
            "           Block-158          [-1, 384, 14, 14]               0\n",
            "          Conv2d-159          [-1, 384, 14, 14]          19,200\n",
            "     BatchNorm2d-160          [-1, 384, 14, 14]             768\n",
            "          Conv2d-161         [-1, 1536, 14, 14]         591,360\n",
            "            GELU-162         [-1, 1536, 14, 14]               0\n",
            "          Conv2d-163          [-1, 384, 14, 14]         590,208\n",
            "           Block-164          [-1, 384, 14, 14]               0\n",
            "          Conv2d-165          [-1, 384, 14, 14]          19,200\n",
            "     BatchNorm2d-166          [-1, 384, 14, 14]             768\n",
            "          Conv2d-167         [-1, 1536, 14, 14]         591,360\n",
            "            GELU-168         [-1, 1536, 14, 14]               0\n",
            "          Conv2d-169          [-1, 384, 14, 14]         590,208\n",
            "           Block-170          [-1, 384, 14, 14]               0\n",
            "          Conv2d-171          [-1, 384, 14, 14]          19,200\n",
            "     BatchNorm2d-172          [-1, 384, 14, 14]             768\n",
            "          Conv2d-173         [-1, 1536, 14, 14]         591,360\n",
            "            GELU-174         [-1, 1536, 14, 14]               0\n",
            "          Conv2d-175          [-1, 384, 14, 14]         590,208\n",
            "           Block-176          [-1, 384, 14, 14]               0\n",
            "          Conv2d-177          [-1, 384, 14, 14]          19,200\n",
            "     BatchNorm2d-178          [-1, 384, 14, 14]             768\n",
            "          Conv2d-179         [-1, 1536, 14, 14]         591,360\n",
            "            GELU-180         [-1, 1536, 14, 14]               0\n",
            "          Conv2d-181          [-1, 384, 14, 14]         590,208\n",
            "           Block-182          [-1, 384, 14, 14]               0\n",
            "          Conv2d-183          [-1, 384, 14, 14]          19,200\n",
            "     BatchNorm2d-184          [-1, 384, 14, 14]             768\n",
            "          Conv2d-185         [-1, 1536, 14, 14]         591,360\n",
            "            GELU-186         [-1, 1536, 14, 14]               0\n",
            "          Conv2d-187          [-1, 384, 14, 14]         590,208\n",
            "           Block-188          [-1, 384, 14, 14]               0\n",
            "          Conv2d-189          [-1, 384, 14, 14]          19,200\n",
            "     BatchNorm2d-190          [-1, 384, 14, 14]             768\n",
            "          Conv2d-191         [-1, 1536, 14, 14]         591,360\n",
            "            GELU-192         [-1, 1536, 14, 14]               0\n",
            "          Conv2d-193          [-1, 384, 14, 14]         590,208\n",
            "           Block-194          [-1, 384, 14, 14]               0\n",
            "          Conv2d-195          [-1, 384, 14, 14]          19,200\n",
            "     BatchNorm2d-196          [-1, 384, 14, 14]             768\n",
            "          Conv2d-197         [-1, 1536, 14, 14]         591,360\n",
            "            GELU-198         [-1, 1536, 14, 14]               0\n",
            "          Conv2d-199          [-1, 384, 14, 14]         590,208\n",
            "           Block-200          [-1, 384, 14, 14]               0\n",
            "          Conv2d-201          [-1, 384, 14, 14]          19,200\n",
            "     BatchNorm2d-202          [-1, 384, 14, 14]             768\n",
            "          Conv2d-203         [-1, 1536, 14, 14]         591,360\n",
            "            GELU-204         [-1, 1536, 14, 14]               0\n",
            "          Conv2d-205          [-1, 384, 14, 14]         590,208\n",
            "           Block-206          [-1, 384, 14, 14]               0\n",
            "     BatchNorm2d-207          [-1, 384, 14, 14]             768\n",
            "          Conv2d-208            [-1, 768, 7, 7]       1,180,416\n",
            "          Conv2d-209            [-1, 768, 7, 7]          38,400\n",
            "     BatchNorm2d-210            [-1, 768, 7, 7]           1,536\n",
            "          Conv2d-211           [-1, 3072, 7, 7]       2,362,368\n",
            "            GELU-212           [-1, 3072, 7, 7]               0\n",
            "          Conv2d-213            [-1, 768, 7, 7]       2,360,064\n",
            "           Block-214            [-1, 768, 7, 7]               0\n",
            "          Conv2d-215            [-1, 768, 7, 7]          38,400\n",
            "     BatchNorm2d-216            [-1, 768, 7, 7]           1,536\n",
            "          Conv2d-217           [-1, 3072, 7, 7]       2,362,368\n",
            "            GELU-218           [-1, 3072, 7, 7]               0\n",
            "          Conv2d-219            [-1, 768, 7, 7]       2,360,064\n",
            "           Block-220            [-1, 768, 7, 7]               0\n",
            "          Conv2d-221            [-1, 768, 7, 7]          38,400\n",
            "     BatchNorm2d-222            [-1, 768, 7, 7]           1,536\n",
            "          Conv2d-223           [-1, 3072, 7, 7]       2,362,368\n",
            "            GELU-224           [-1, 3072, 7, 7]               0\n",
            "          Conv2d-225            [-1, 768, 7, 7]       2,360,064\n",
            "           Block-226            [-1, 768, 7, 7]               0\n",
            "AdaptiveAvgPool2d-227            [-1, 768, 1, 1]               0\n",
            "         Flatten-228                  [-1, 768]               0\n",
            "         Dropout-229                  [-1, 768]               0\n",
            "          Linear-230                    [-1, 1]             769\n",
            "================================================================\n",
            "Total params: 49,439,137\n",
            "Trainable params: 49,439,137\n",
            "Non-trainable params: 0\n",
            "----------------------------------------------------------------\n",
            "Input size (MB): 0.19\n",
            "Forward/backward pass size (MB): 335.65\n",
            "Params size (MB): 188.60\n",
            "Estimated Total Size (MB): 524.44\n",
            "----------------------------------------------------------------\n"
          ]
        }
      ]
    },
    {
      "cell_type": "code",
      "source": [
        "cfg = {\n",
        "    'A' : [64,     'M', 128,      'M', 256, 256,           'M', 512, 512,           'M', 512, 512,           'M'],\n",
        "    'B' : [64, 64, 'M', 128, 128, 'M', 256, 256,           'M', 512, 512,           'M', 512, 512,           'M'],\n",
        "    'D' : [64, 64, 'M', 128, 128, 'M', 256, 256, 256,      'M', 512, 512, 512,      'M', 512, 512, 512,      'M'],\n",
        "    'E' : [64, 64, 'M', 128, 128, 'M', 256, 256, 256, 256, 'M', 512, 512, 512, 512, 'M', 512, 512, 512, 512, 'M']\n",
        "}\n",
        "\n",
        "class VGG(nn.Module):\n",
        "\n",
        "    def __init__(self, features, num_class=1):\n",
        "        super().__init__()\n",
        "        self.features = features\n",
        "\n",
        "        self.classifier = nn.Sequential(\n",
        "            #nn.Linear(25088, 4096),\n",
        "            nn.Linear(25088,8),\n",
        "            # nn.Sigmoid(),\n",
        "            nn.ReLU(),\n",
        "            nn.Dropout(),\n",
        "            #nn.Linear(4096, 4096),\n",
        "            nn.Linear(8,8),\n",
        "            # nn.Sigmoid(),\n",
        "            nn.ReLU(),\n",
        "            nn.Dropout(),\n",
        "            #nn.Linear(4096, num_class)\n",
        "            nn.Linear(8, num_class)\n",
        "        )\n",
        "\n",
        "    def forward(self, x):\n",
        "        output = self.features(x)\n",
        "        output = output.view(output.size()[0], -1)\n",
        "        output = self.classifier(output)\n",
        "\n",
        "        return output\n",
        "\n",
        "def make_layers(cfg, batch_norm=False):\n",
        "    layers = []\n",
        "\n",
        "    input_channel = 1\n",
        "    for l in cfg:\n",
        "        if l == 'M':\n",
        "            layers += [nn.MaxPool2d(kernel_size=2, stride=2)]\n",
        "            continue\n",
        "\n",
        "        layers += [nn.Conv2d(input_channel, l, kernel_size=3, padding=1)]\n",
        "\n",
        "        if batch_norm:\n",
        "            layers += [nn.BatchNorm2d(l)]\n",
        "\n",
        "        # layers += [nn.Sigmoid()]\n",
        "        layers += [nn.ReLU(inplace=True)]\n",
        "        input_channel = l\n",
        "\n",
        "    return nn.Sequential(*layers)\n",
        "\n",
        "model = VGG(make_layers(cfg['B'], batch_norm=True)).to(DEVICE)\n",
        "summary(model, (1, 224, 224))"
      ],
      "metadata": {
        "colab": {
          "base_uri": "https://localhost:8080/"
        },
        "id": "YSRgXbYk2mdI",
        "outputId": "e6038834-b401-454b-8094-e460c8ed0c1e"
      },
      "execution_count": 73,
      "outputs": [
        {
          "output_type": "stream",
          "name": "stdout",
          "text": [
            "----------------------------------------------------------------\n",
            "        Layer (type)               Output Shape         Param #\n",
            "================================================================\n",
            "            Conv2d-1         [-1, 64, 224, 224]             640\n",
            "       BatchNorm2d-2         [-1, 64, 224, 224]             128\n",
            "              ReLU-3         [-1, 64, 224, 224]               0\n",
            "            Conv2d-4         [-1, 64, 224, 224]          36,928\n",
            "       BatchNorm2d-5         [-1, 64, 224, 224]             128\n",
            "              ReLU-6         [-1, 64, 224, 224]               0\n",
            "         MaxPool2d-7         [-1, 64, 112, 112]               0\n",
            "            Conv2d-8        [-1, 128, 112, 112]          73,856\n",
            "       BatchNorm2d-9        [-1, 128, 112, 112]             256\n",
            "             ReLU-10        [-1, 128, 112, 112]               0\n",
            "           Conv2d-11        [-1, 128, 112, 112]         147,584\n",
            "      BatchNorm2d-12        [-1, 128, 112, 112]             256\n",
            "             ReLU-13        [-1, 128, 112, 112]               0\n",
            "        MaxPool2d-14          [-1, 128, 56, 56]               0\n",
            "           Conv2d-15          [-1, 256, 56, 56]         295,168\n",
            "      BatchNorm2d-16          [-1, 256, 56, 56]             512\n",
            "             ReLU-17          [-1, 256, 56, 56]               0\n",
            "           Conv2d-18          [-1, 256, 56, 56]         590,080\n",
            "      BatchNorm2d-19          [-1, 256, 56, 56]             512\n",
            "             ReLU-20          [-1, 256, 56, 56]               0\n",
            "        MaxPool2d-21          [-1, 256, 28, 28]               0\n",
            "           Conv2d-22          [-1, 512, 28, 28]       1,180,160\n",
            "      BatchNorm2d-23          [-1, 512, 28, 28]           1,024\n",
            "             ReLU-24          [-1, 512, 28, 28]               0\n",
            "           Conv2d-25          [-1, 512, 28, 28]       2,359,808\n",
            "      BatchNorm2d-26          [-1, 512, 28, 28]           1,024\n",
            "             ReLU-27          [-1, 512, 28, 28]               0\n",
            "        MaxPool2d-28          [-1, 512, 14, 14]               0\n",
            "           Conv2d-29          [-1, 512, 14, 14]       2,359,808\n",
            "      BatchNorm2d-30          [-1, 512, 14, 14]           1,024\n",
            "             ReLU-31          [-1, 512, 14, 14]               0\n",
            "           Conv2d-32          [-1, 512, 14, 14]       2,359,808\n",
            "      BatchNorm2d-33          [-1, 512, 14, 14]           1,024\n",
            "             ReLU-34          [-1, 512, 14, 14]               0\n",
            "        MaxPool2d-35            [-1, 512, 7, 7]               0\n",
            "           Linear-36                    [-1, 8]         200,712\n",
            "             ReLU-37                    [-1, 8]               0\n",
            "          Dropout-38                    [-1, 8]               0\n",
            "           Linear-39                    [-1, 8]              72\n",
            "             ReLU-40                    [-1, 8]               0\n",
            "          Dropout-41                    [-1, 8]               0\n",
            "           Linear-42                    [-1, 1]               9\n",
            "================================================================\n",
            "Total params: 9,610,521\n",
            "Trainable params: 9,610,521\n",
            "Non-trainable params: 0\n",
            "----------------------------------------------------------------\n",
            "Input size (MB): 0.19\n",
            "Forward/backward pass size (MB): 291.89\n",
            "Params size (MB): 36.66\n",
            "Estimated Total Size (MB): 328.75\n",
            "----------------------------------------------------------------\n"
          ]
        }
      ]
    },
    {
      "cell_type": "markdown",
      "metadata": {
        "id": "KZCn0qHuZRKj"
      },
      "source": [
        "# Setup everything for training"
      ]
    },
    {
      "cell_type": "code",
      "execution_count": 74,
      "metadata": {
        "id": "UowI9OcUYPjP"
      },
      "outputs": [],
      "source": [
        "criterion = torch.nn.BCEWithLogitsLoss()\n",
        "#criterion = nn.CrossEntropyLoss()\n",
        "#optimizer = torch.optim.Adam(model.parameters())\n",
        "optimizer = torch.optim.SGD(model.parameters(), lr=0.1)\n",
        "scheduler = torch.optim.lr_scheduler.ReduceLROnPlateau(optimizer,'max',factor=0.5, patience=2)"
      ]
    },
    {
      "cell_type": "markdown",
      "metadata": {
        "id": "dzM11HtcboYv"
      },
      "source": [
        "# Let's train!"
      ]
    },
    {
      "cell_type": "code",
      "source": [
        "def binary_acc(y_pred, y_test):\n",
        "    y_pred_tag = torch.round(torch.sigmoid(y_pred))\n",
        "\n",
        "    correct_results_sum = (y_pred_tag == y_test).sum().float()\n",
        "    acc = correct_results_sum/y_test.shape[0]\n",
        "    acc = torch.round(acc * 100)\n",
        "    \n",
        "    return acc"
      ],
      "metadata": {
        "id": "o7wuQCnSXDFV"
      },
      "execution_count": 75,
      "outputs": []
    },
    {
      "cell_type": "code",
      "execution_count": 76,
      "metadata": {
        "id": "bgSw6iJJavBZ"
      },
      "outputs": [],
      "source": [
        "import torch.nn.functional as F\n",
        "def train(model, dataloader, optimizer, criterion):\n",
        "    \n",
        "    model.train()\n",
        "\n",
        "    batch_bar   = tqdm(total=len(dataloader), dynamic_ncols=True, leave=False, position=0, desc='Train', ncols=5) \n",
        "\n",
        "    total_loss  = 0.0\n",
        "    num_correct = 0\n",
        "\n",
        "    for i, (images, labels) in enumerate(dataloader):\n",
        "        \n",
        "        optimizer.zero_grad()\n",
        "        images, labels = images.to(DEVICE), labels.to(DEVICE)\n",
        "        \n",
        "        outputs = model(images)\n",
        "        loss    = criterion(outputs, labels.unsqueeze(1).float())\n",
        "\n",
        "        pred = torch.tensor([1 if x > 0.75 else 0 for x in F.sigmoid(outputs)])\n",
        "        pred = pred.to(DEVICE)\n",
        "        num_correct     += int((pred == labels).sum())\n",
        "        total_loss += float(loss.item())\n",
        "\n",
        "        batch_bar.set_postfix(\n",
        "            acc         = \"{:.04f}%\".format(100 * num_correct / (config['batch_size']*(i + 1))),\n",
        "            loss        = \"{:.04f}\".format(float(total_loss / (i + 1))),\n",
        "            lr          = \"{:.04f}\".format(float(optimizer.param_groups[0]['lr']))\n",
        "        )\n",
        "        \n",
        "        loss.backward()\n",
        "        optimizer.step()\n",
        "      \n",
        "        batch_bar.update()\n",
        "\n",
        "    batch_bar.close()\n",
        "\n",
        "    acc         = 100 * num_correct / (config['batch_size']* len(dataloader))\n",
        "    total_loss  = float(total_loss / len(dataloader))\n",
        "\n",
        "    return acc, total_loss"
      ]
    },
    {
      "cell_type": "code",
      "source": [],
      "metadata": {
        "id": "xLT13g625Lm2"
      },
      "execution_count": null,
      "outputs": []
    },
    {
      "cell_type": "code",
      "execution_count": 77,
      "metadata": {
        "id": "m5V2UdnpdEoK"
      },
      "outputs": [],
      "source": [
        "def validate(model, dataloader, criterion):\n",
        "  \n",
        "    model.eval()\n",
        "    batch_bar = tqdm(total=len(dataloader), dynamic_ncols=True, position=0, leave=False, desc='Val', ncols=5)\n",
        "\n",
        "    total_loss = 0.0\n",
        "    num_correct = 0.0\n",
        "    test_results = []\n",
        "    true_labels = []\n",
        "\n",
        "    for i, (images, labels) in enumerate(dataloader):\n",
        "\n",
        "        images, labels = images.to(DEVICE), labels.to(DEVICE)\n",
        "        \n",
        "        with torch.inference_mode():\n",
        "            outputs = model(images)\n",
        "            loss    = criterion(outputs, labels.unsqueeze(1).float())\n",
        "\n",
        "        pred = F.sigmoid(outputs)\n",
        "        pred = torch.tensor([1 if x > 0.75 else 0 for x in pred]).to(DEVICE)\n",
        "        num_correct     += int((pred == labels).sum())\n",
        "        total_loss += float(loss.item())\n",
        "\n",
        "\n",
        "        opts = pred.detach().cpu().numpy().tolist()\n",
        "        labels = labels.detach().cpu().numpy().tolist()\n",
        "        test_results.extend(opts)\n",
        "        true_labels.extend(labels)\n",
        "\n",
        "        batch_bar.set_postfix(\n",
        "            acc=\"{:.04f}%\".format(100 * num_correct / (config['batch_size']*(i + 1))),\n",
        "            loss=\"{:.04f}\".format(float(total_loss / (i + 1))))\n",
        "\n",
        "        batch_bar.update()\n",
        "        \n",
        "    batch_bar.close()\n",
        "\n",
        "\n",
        "    acc         = 100 * num_correct / (config['batch_size']* len(dataloader))\n",
        "    total_loss = float(total_loss / len(dataloader))\n",
        "    \n",
        "    return acc, total_loss,test_results, true_labels"
      ]
    },
    {
      "cell_type": "code",
      "execution_count": 78,
      "metadata": {
        "id": "cmotca6pcLLY",
        "colab": {
          "base_uri": "https://localhost:8080/"
        },
        "outputId": "fe3affb0-b685-4fbe-d2ac-a020b03a77ba"
      },
      "outputs": [
        {
          "output_type": "stream",
          "name": "stderr",
          "text": []
        }
      ],
      "source": [
        "gc.collect()\n",
        "torch.cuda.empty_cache()"
      ]
    },
    {
      "cell_type": "markdown",
      "metadata": {
        "id": "SQkRw1FvLqYe"
      },
      "source": [
        "# Experiments"
      ]
    },
    {
      "cell_type": "code",
      "source": [
        "val_acc, val_loss,test_results, true_labels = validate(model, valid_loader, criterion)"
      ],
      "metadata": {
        "id": "uppVaVJSsQQl"
      },
      "execution_count": null,
      "outputs": []
    },
    {
      "cell_type": "code",
      "execution_count": 79,
      "metadata": {
        "colab": {
          "base_uri": "https://localhost:8080/",
          "height": 893
        },
        "id": "EqWO8Edb0BK2",
        "outputId": "8df4dc5d-3b51-4999-e31d-b09c4a66295b"
      },
      "outputs": [
        {
          "output_type": "stream",
          "name": "stderr",
          "text": []
        },
        {
          "output_type": "stream",
          "name": "stdout",
          "text": [
            "\n",
            "Epoch 1/30: \n",
            "Train Acc 50.3289%\t Train Loss 0.6956\t Learning Rate 0.1000\n"
          ]
        },
        {
          "output_type": "stream",
          "name": "stderr",
          "text": []
        },
        {
          "output_type": "stream",
          "name": "stdout",
          "text": [
            "Val Acc 61.8976%\t Val Loss 0.6973\n"
          ]
        },
        {
          "output_type": "stream",
          "name": "stderr",
          "text": []
        },
        {
          "output_type": "stream",
          "name": "stdout",
          "text": [
            "\n",
            "Epoch 2/30: \n",
            "Train Acc 49.7880%\t Train Loss 0.6937\t Learning Rate 0.1000\n"
          ]
        },
        {
          "output_type": "stream",
          "name": "stderr",
          "text": []
        },
        {
          "output_type": "stream",
          "name": "stdout",
          "text": [
            "Val Acc 61.8976%\t Val Loss 0.6806\n"
          ]
        },
        {
          "output_type": "stream",
          "name": "stderr",
          "text": []
        },
        {
          "output_type": "stream",
          "name": "stdout",
          "text": [
            "\n",
            "Epoch 3/30: \n",
            "Train Acc 50.3509%\t Train Loss 0.6934\t Learning Rate 0.1000\n"
          ]
        },
        {
          "output_type": "stream",
          "name": "stderr",
          "text": []
        },
        {
          "output_type": "stream",
          "name": "stdout",
          "text": [
            "Val Acc 61.8976%\t Val Loss 0.6809\n"
          ]
        },
        {
          "output_type": "stream",
          "name": "stderr",
          "text": []
        },
        {
          "output_type": "stream",
          "name": "stdout",
          "text": [
            "\n",
            "Epoch 4/30: \n",
            "Train Acc 50.4167%\t Train Loss 0.6938\t Learning Rate 0.1000\n"
          ]
        },
        {
          "output_type": "stream",
          "name": "stderr",
          "text": []
        },
        {
          "output_type": "stream",
          "name": "stdout",
          "text": [
            "Val Acc 61.8976%\t Val Loss 0.6905\n"
          ]
        },
        {
          "output_type": "stream",
          "name": "stderr",
          "text": []
        },
        {
          "output_type": "stream",
          "name": "stdout",
          "text": [
            "\n",
            "Epoch 5/30: \n",
            "Train Acc 50.1316%\t Train Loss 0.6932\t Learning Rate 0.0500\n"
          ]
        },
        {
          "output_type": "stream",
          "name": "stderr",
          "text": []
        },
        {
          "output_type": "stream",
          "name": "stdout",
          "text": [
            "Val Acc 61.8976%\t Val Loss 0.6887\n"
          ]
        },
        {
          "output_type": "stream",
          "name": "stderr",
          "text": []
        },
        {
          "output_type": "stream",
          "name": "stdout",
          "text": [
            "\n",
            "Epoch 6/30: \n",
            "Train Acc 48.8304%\t Train Loss 0.6932\t Learning Rate 0.0500\n"
          ]
        },
        {
          "output_type": "stream",
          "name": "stderr",
          "text": []
        },
        {
          "output_type": "stream",
          "name": "stdout",
          "text": [
            "Val Acc 61.8976%\t Val Loss 0.6973\n"
          ]
        },
        {
          "output_type": "stream",
          "name": "stderr",
          "text": []
        },
        {
          "output_type": "stream",
          "name": "stdout",
          "text": [
            "\n",
            "Epoch 7/30: \n",
            "Train Acc 50.5044%\t Train Loss 0.6934\t Learning Rate 0.0500\n"
          ]
        },
        {
          "output_type": "stream",
          "name": "stderr",
          "text": []
        },
        {
          "output_type": "stream",
          "name": "stdout",
          "text": [
            "Val Acc 61.8976%\t Val Loss 0.6896\n"
          ]
        },
        {
          "output_type": "stream",
          "name": "stderr",
          "text": [
            "Train:  95%|█████████▍| 810/855 [01:07<00:03, 11.54it/s, acc=50.1543%, loss=0.6933, lr=0.0250]"
          ]
        },
        {
          "output_type": "error",
          "ename": "KeyboardInterrupt",
          "evalue": "ignored",
          "traceback": [
            "\u001b[0;31m---------------------------------------------------------------------------\u001b[0m",
            "\u001b[0;31mKeyboardInterrupt\u001b[0m                         Traceback (most recent call last)",
            "\u001b[0;32m<ipython-input-79-a2a7148b9747>\u001b[0m in \u001b[0;36m<cell line: 3>\u001b[0;34m()\u001b[0m\n\u001b[1;32m      5\u001b[0m     \u001b[0mcurr_lr\u001b[0m \u001b[0;34m=\u001b[0m \u001b[0mfloat\u001b[0m\u001b[0;34m(\u001b[0m\u001b[0moptimizer\u001b[0m\u001b[0;34m.\u001b[0m\u001b[0mparam_groups\u001b[0m\u001b[0;34m[\u001b[0m\u001b[0;36m0\u001b[0m\u001b[0;34m]\u001b[0m\u001b[0;34m[\u001b[0m\u001b[0;34m'lr'\u001b[0m\u001b[0;34m]\u001b[0m\u001b[0;34m)\u001b[0m\u001b[0;34m\u001b[0m\u001b[0;34m\u001b[0m\u001b[0m\n\u001b[1;32m      6\u001b[0m \u001b[0;34m\u001b[0m\u001b[0m\n\u001b[0;32m----> 7\u001b[0;31m     \u001b[0mtrain_acc\u001b[0m\u001b[0;34m,\u001b[0m \u001b[0mtrain_loss\u001b[0m \u001b[0;34m=\u001b[0m \u001b[0mtrain\u001b[0m\u001b[0;34m(\u001b[0m\u001b[0mmodel\u001b[0m\u001b[0;34m,\u001b[0m \u001b[0mtrain_loader\u001b[0m\u001b[0;34m,\u001b[0m \u001b[0moptimizer\u001b[0m\u001b[0;34m,\u001b[0m \u001b[0mcriterion\u001b[0m\u001b[0;34m)\u001b[0m\u001b[0;34m\u001b[0m\u001b[0;34m\u001b[0m\u001b[0m\n\u001b[0m\u001b[1;32m      8\u001b[0m \u001b[0;34m\u001b[0m\u001b[0m\n\u001b[1;32m      9\u001b[0m     print(\"\\nEpoch {}/{}: \\nTrain Acc {:.04f}%\\t Train Loss {:.04f}\\t Learning Rate {:.04f}\".format(\n",
            "\u001b[0;32m<ipython-input-76-f4991830333b>\u001b[0m in \u001b[0;36mtrain\u001b[0;34m(model, dataloader, optimizer, criterion)\u001b[0m\n\u001b[1;32m     12\u001b[0m \u001b[0;34m\u001b[0m\u001b[0m\n\u001b[1;32m     13\u001b[0m         \u001b[0moptimizer\u001b[0m\u001b[0;34m.\u001b[0m\u001b[0mzero_grad\u001b[0m\u001b[0;34m(\u001b[0m\u001b[0;34m)\u001b[0m\u001b[0;34m\u001b[0m\u001b[0;34m\u001b[0m\u001b[0m\n\u001b[0;32m---> 14\u001b[0;31m         \u001b[0mimages\u001b[0m\u001b[0;34m,\u001b[0m \u001b[0mlabels\u001b[0m \u001b[0;34m=\u001b[0m \u001b[0mimages\u001b[0m\u001b[0;34m.\u001b[0m\u001b[0mto\u001b[0m\u001b[0;34m(\u001b[0m\u001b[0mDEVICE\u001b[0m\u001b[0;34m)\u001b[0m\u001b[0;34m,\u001b[0m \u001b[0mlabels\u001b[0m\u001b[0;34m.\u001b[0m\u001b[0mto\u001b[0m\u001b[0;34m(\u001b[0m\u001b[0mDEVICE\u001b[0m\u001b[0;34m)\u001b[0m\u001b[0;34m\u001b[0m\u001b[0;34m\u001b[0m\u001b[0m\n\u001b[0m\u001b[1;32m     15\u001b[0m \u001b[0;34m\u001b[0m\u001b[0m\n\u001b[1;32m     16\u001b[0m         \u001b[0moutputs\u001b[0m \u001b[0;34m=\u001b[0m \u001b[0mmodel\u001b[0m\u001b[0;34m(\u001b[0m\u001b[0mimages\u001b[0m\u001b[0;34m)\u001b[0m\u001b[0;34m\u001b[0m\u001b[0;34m\u001b[0m\u001b[0m\n",
            "\u001b[0;31mKeyboardInterrupt\u001b[0m: "
          ]
        }
      ],
      "source": [
        "best_valacc = 0\n",
        "\n",
        "for epoch in range(config['epochs']):\n",
        "\n",
        "    curr_lr = float(optimizer.param_groups[0]['lr'])\n",
        "\n",
        "    train_acc, train_loss = train(model, train_loader, optimizer, criterion)\n",
        "    \n",
        "    print(\"\\nEpoch {}/{}: \\nTrain Acc {:.04f}%\\t Train Loss {:.04f}\\t Learning Rate {:.04f}\".format(\n",
        "        epoch + 1,\n",
        "        config['epochs'],\n",
        "        train_acc,\n",
        "        train_loss,\n",
        "        curr_lr))\n",
        "    \n",
        "    val_acc, val_loss,test_results, true_labels = validate(model, valid_loader, criterion)\n",
        "    \n",
        "    print(\"Val Acc {:.04f}%\\t Val Loss {:.04f}\".format(val_acc, val_loss))\n",
        "    scheduler.step(val_acc)\n",
        "\n",
        "\n",
        "    # if val_acc >= best_valacc:\n",
        "    #   #path = os.path.join(root, model_directory, 'checkpoint' + '.pth')\n",
        "    #   print(\"Saving model\")\n",
        "    #   torch.save({'model_state_dict':model.state_dict(),\n",
        "    #               'optimizer_state_dict':optimizer.state_dict(),\n",
        "    #               #'scheduler_state_dict':scheduler.state_dict(),\n",
        "    #               'val_acc': val_acc, \n",
        "    #               'epoch': epoch}, '/content/drive/MyDrive/mlproj_base1.pth')\n",
        "    #   best_valacc = val_acc"
      ]
    },
    {
      "cell_type": "code",
      "source": [
        "from sklearn.metrics import confusion_matrix\n",
        "import seaborn as sns\n",
        "\n",
        "# test_results, true_labels = test(model, valid_loader, criterion)\n",
        "\n",
        "cm = confusion_matrix(test_results, true_labels)\n",
        "plt.figure(figsize=(9, 8))\n",
        "sns.heatmap(cm, annot=True)\n",
        "plt.xlabel(\"Actual class\")\n",
        "plt.ylabel(\"Predicted class\")"
      ],
      "metadata": {
        "colab": {
          "base_uri": "https://localhost:8080/",
          "height": 714
        },
        "id": "XRteaizB9YYZ",
        "outputId": "d330ad06-6a17-4957-919a-8a242efc8668"
      },
      "execution_count": 80,
      "outputs": [
        {
          "output_type": "execute_result",
          "data": {
            "text/plain": [
              "Text(83.22222222222221, 0.5, 'Predicted class')"
            ]
          },
          "metadata": {},
          "execution_count": 80
        },
        {
          "output_type": "display_data",
          "data": {
            "text/plain": [
              "<Figure size 900x800 with 2 Axes>"
            ],
            "image/png": "[encoded data removed]"
          },
          "metadata": {}
        }
      ]
    },
    {
      "cell_type": "code",
      "source": [
        "from sklearn.metrics import f1_score\n",
        "f1 = f1_score(true_labels, test_results)\n",
        "\n",
        "# Print F1 score\n",
        "print(\"F1 score:\", f1)"
      ],
      "metadata": {
        "colab": {
          "base_uri": "https://localhost:8080/"
        },
        "id": "1nWgl2eX9tPz",
        "outputId": "9d3e58ea-9351-4da1-dbc6-2fc9f3506a18"
      },
      "execution_count": null,
      "outputs": [
        {
          "output_type": "stream",
          "name": "stdout",
          "text": [
            "F1 score: 0.0\n"
          ]
        }
      ]
    }
  ],
  "metadata": {
    "accelerator": "GPU",
    "colab": {
      "machine_shape": "hm",
      "provenance": [],
      "gpuType": "A100"
    },
    "gpuClass": "premium",
    "kernelspec": {
      "display_name": "Python 3",
      "language": "python",
      "name": "python3"
    },
    "language_info": {
      "name": "python",
      "version": "3.9.6"
    },
    "vscode": {
      "interpreter": {
        "hash": "31f2aee4e71d21fbe5cf8b01ff0e069b9275f58929596ceb00d14d90e3e16cd6"
      }
    }
  },
  "nbformat": 4,
  "nbformat_minor": 0
}