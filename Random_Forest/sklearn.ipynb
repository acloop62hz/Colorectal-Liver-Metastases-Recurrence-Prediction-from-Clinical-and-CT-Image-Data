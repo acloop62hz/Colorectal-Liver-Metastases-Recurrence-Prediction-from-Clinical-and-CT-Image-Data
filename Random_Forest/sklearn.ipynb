{
 "cells": [
  {
   "cell_type": "code",
   "execution_count": 4,
   "id": "b76c7e36",
   "metadata": {},
   "outputs": [],
   "source": [
    "# Import necessary libraries\n",
    "import pandas as pd\n",
    "from sklearn.ensemble import RandomForestClassifier\n",
    "from sklearn.model_selection import train_test_split\n",
    "from sklearn.metrics import accuracy_score, precision_score"
   ]
  },
  {
   "cell_type": "code",
   "execution_count": 7,
   "id": "9f1fd38e",
   "metadata": {},
   "outputs": [
    {
     "name": "stdout",
     "output_type": "stream",
     "text": [
      "months_to_liver_DFS_progression: 0.23\n",
      "vital_status_liver_DFS: 0.13\n",
      "months_to_DFS_progression: 0.1\n",
      "overall_survival_months: 0.09\n",
      "progression_or_recurrence: 0.09\n"
     ]
    }
   ],
   "source": [
    "# Load the data from the Excel file\n",
    "data = pd.read_excel('clinical_data.xlsx')\n",
    "\n",
    "# remove the '%' symbol from the 'total_response_percent' column\n",
    "# data['total_response_percent'] = data['total_response_percent'].str.rstrip('%')\n",
    "# data['necrosis_percent'] = data['necrosis_percent'].str.rstrip('%')\n",
    "# data['fibrosis_percent'] = data['fibrosis_percent'].str.rstrip('%')\n",
    "# data['mucin_percent'] = data['mucin_percent'].str.rstrip('%')\n",
    "\n",
    "# convert the 'total_response_percent' column to float\n",
    "data['total_response_percent'] = data['total_response_percent'].astype(float)\n",
    "data['necrosis_percent'] = data['necrosis_percent'].astype(float)\n",
    "data['fibrosis_percent'] = data['fibrosis_percent'].astype(float)\n",
    "data['mucin_percent'] = data['mucin_percent'].astype(float)\n",
    "\n",
    "# Drop the irrelevant columns\n",
    "X = data.drop(['Patient-ID', 'De-identify Scout Name', 'progression_or_recurrence_liveronly', 'relevant_notes'], axis=1)\n",
    "y = data['progression_or_recurrence_liveronly']\n",
    "\n",
    "# Create a random forest classifier and fit the data\n",
    "rfc = RandomForestClassifier()\n",
    "rfc.fit(X, y)\n",
    "\n",
    "# Get the feature importances and sort them in descending order\n",
    "importances = list(rfc.feature_importances_)\n",
    "feature_importances = [(feature, round(importance, 2)) for feature, importance in zip(X.columns, importances)]\n",
    "feature_importances = sorted(feature_importances, key=lambda x: x[1], reverse=True)\n",
    "\n",
    "# Print the top 5 most influential features\n",
    "for feature, importance in feature_importances[:5]:\n",
    "    print('{}: {}'.format(feature, importance))"
   ]
  },
  {
   "cell_type": "code",
   "execution_count": 8,
   "id": "4ae5bfa2",
   "metadata": {},
   "outputs": [
    {
     "name": "stdout",
     "output_type": "stream",
     "text": [
      "Accuracy: 90.00%\n",
      "Precision: 91.67%\n"
     ]
    }
   ],
   "source": [
    "# Split the data into training and testing sets\n",
    "X_train, X_test, y_train, y_test = train_test_split(X, y, test_size=0.2, random_state=42)\n",
    "\n",
    "# Create a random forest classifier and fit the training data\n",
    "rfc = RandomForestClassifier()\n",
    "rfc.fit(X_train, y_train)\n",
    "\n",
    "# Predict the test data and calculate the accuracy and precision\n",
    "y_pred = rfc.predict(X_test)\n",
    "accuracy = accuracy_score(y_test, y_pred)\n",
    "precision = precision_score(y_test, y_pred)\n",
    "\n",
    "# Print the accuracy and precision\n",
    "print('Accuracy: {:.2f}%'.format(accuracy * 100))\n",
    "print('Precision: {:.2f}%'.format(precision * 100))"
   ]
  }
 ],
 "metadata": {
  "kernelspec": {
   "display_name": "Python 3 (ipykernel)",
   "language": "python",
   "name": "python3"
  },
  "language_info": {
   "codemirror_mode": {
    "name": "ipython",
    "version": 3
   },
   "file_extension": ".py",
   "mimetype": "text/x-python",
   "name": "python",
   "nbconvert_exporter": "python",
   "pygments_lexer": "ipython3",
   "version": "3.10.8"
  }
 },
 "nbformat": 4,
 "nbformat_minor": 5
}
